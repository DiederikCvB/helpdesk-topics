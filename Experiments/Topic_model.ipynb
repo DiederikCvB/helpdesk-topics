{
 "cells": [
  {
   "cell_type": "code",
   "execution_count": null,
   "id": "ca30125d",
   "metadata": {},
   "outputs": [],
   "source": [
    "import pandas as pd\n",
    "import matplotlib.pyplot as plt"
   ]
  },
  {
   "cell_type": "markdown",
   "id": "491d571f",
   "metadata": {},
   "source": [
    "# Load data"
   ]
  },
  {
   "cell_type": "code",
   "execution_count": null,
   "id": "3be66718",
   "metadata": {},
   "outputs": [],
   "source": [
    "df = pd.read_csv('data/ciphix.csv', header=None, names=['text'])"
   ]
  },
  {
   "cell_type": "markdown",
   "id": "5228d77f",
   "metadata": {},
   "source": [
    "# Look around"
   ]
  },
  {
   "cell_type": "code",
   "execution_count": null,
   "id": "bd10a831",
   "metadata": {},
   "outputs": [],
   "source": [
    "df"
   ]
  },
  {
   "cell_type": "code",
   "execution_count": null,
   "id": "ac5d6e53",
   "metadata": {},
   "outputs": [],
   "source": [
    "df.isna().sum()"
   ]
  },
  {
   "cell_type": "code",
   "execution_count": null,
   "id": "228ecc78",
   "metadata": {},
   "outputs": [],
   "source": [
    "df[\"wordcount\"] = df[\"text\"].str.split().str.len()"
   ]
  },
  {
   "cell_type": "code",
   "execution_count": null,
   "id": "5d45ede3",
   "metadata": {},
   "outputs": [],
   "source": [
    "df['wordcount'].hist(bins=20)"
   ]
  },
  {
   "cell_type": "code",
   "execution_count": null,
   "id": "927bb14c",
   "metadata": {},
   "outputs": [],
   "source": [
    "df"
   ]
  },
  {
   "cell_type": "markdown",
   "id": "90966263",
   "metadata": {},
   "source": [
    "### Conclusions\n",
    "Looking around I noticed:\n",
    "- all messages start with some kind of username handle\n",
    "- some have multiple username handles\n",
    "- different languages\n",
    "- smileys\n",
    "- URLS"
   ]
  },
  {
   "cell_type": "code",
   "execution_count": null,
   "id": "a4458cee",
   "metadata": {},
   "outputs": [],
   "source": [
    "#Lets check the counts of the first tag mentioned\n",
    "split = df['text'].str.extract(r'(@([a-zA-Z\\d]+)([^\\S\\r\\n]))(.*)')\n",
    "split['text'] = split[3]\n",
    "split['tag'] = split[1]\n",
    "split = split[['tag','text']]\n",
    "split = split.dropna(subset='text')\n",
    "split['tag'].value_counts()[:20].plot(kind='barh', figsize=(10, 8))\n",
    "plt.title(\"Counts of tag first-mentioned\", y=1.02);"
   ]
  },
  {
   "cell_type": "markdown",
   "id": "a8cc5823",
   "metadata": {},
   "source": [
    "# Clean + preprocess"
   ]
  },
  {
   "cell_type": "code",
   "execution_count": null,
   "id": "a5400df0",
   "metadata": {},
   "outputs": [],
   "source": []
  }
 ],
 "metadata": {
  "kernelspec": {
   "display_name": "Python 3 (ipykernel)",
   "language": "python",
   "name": "python3"
  },
  "language_info": {
   "codemirror_mode": {
    "name": "ipython",
    "version": 3
   },
   "file_extension": ".py",
   "mimetype": "text/x-python",
   "name": "python",
   "nbconvert_exporter": "python",
   "pygments_lexer": "ipython3",
   "version": "3.9.12"
  }
 },
 "nbformat": 4,
 "nbformat_minor": 5
}
