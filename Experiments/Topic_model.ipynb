{
 "cells": [
  {
   "cell_type": "code",
   "execution_count": null,
   "id": "989e5f05",
   "metadata": {},
   "outputs": [],
   "source": [
    "import pandas as pd\n",
    "import matplotlib.pyplot as plt\n",
    "import re"
   ]
  },
  {
   "cell_type": "markdown",
   "id": "5ed38d1d",
   "metadata": {},
   "source": [
    "# Load data"
   ]
  },
  {
   "cell_type": "code",
   "execution_count": null,
   "id": "d13523c4",
   "metadata": {},
   "outputs": [],
   "source": [
    "df = pd.read_csv('data/ciphix.csv', header=None, names=['text'])"
   ]
  },
  {
   "cell_type": "markdown",
   "id": "fd1c4fbe",
   "metadata": {},
   "source": [
    "# Look around"
   ]
  },
  {
   "cell_type": "code",
   "execution_count": null,
   "id": "402315e1",
   "metadata": {},
   "outputs": [],
   "source": [
    "df"
   ]
  },
  {
   "cell_type": "code",
   "execution_count": null,
   "id": "d412a8e9",
   "metadata": {},
   "outputs": [],
   "source": [
    "df.isna().sum()"
   ]
  },
  {
   "cell_type": "code",
   "execution_count": null,
   "id": "690ce956",
   "metadata": {},
   "outputs": [],
   "source": [
    "df[\"wordcount\"] = df[\"text\"].str.split().str.len()"
   ]
  },
  {
   "cell_type": "code",
   "execution_count": null,
   "id": "43e8b5c3",
   "metadata": {},
   "outputs": [],
   "source": [
    "df['wordcount'].hist(bins=20)"
   ]
  },
  {
   "cell_type": "code",
   "execution_count": null,
   "id": "a88d983c",
   "metadata": {},
   "outputs": [],
   "source": [
    "df"
   ]
  },
  {
   "cell_type": "markdown",
   "id": "5f976b7c",
   "metadata": {},
   "source": [
    "### Conclusions\n",
    "Looking around I noticed:\n",
    "- all messages start with some kind of username handle\n",
    "- some have multiple username handles\n",
    "- some end with a different tag ^ followed by user acronym\n",
    "- different languages\n",
    "- smileys\n",
    "- URLS"
   ]
  },
  {
   "cell_type": "code",
   "execution_count": null,
   "id": "46e678e6",
   "metadata": {},
   "outputs": [],
   "source": [
    "#Lets check the counts of the first tag mentioned\n",
    "split = df['text'].str.extract(r'(@([a-zA-Z\\d]+)([^\\S\\r\\n]))(.*)')\n",
    "split['text'] = split[3]\n",
    "split['tag'] = split[1]\n",
    "split = split[['tag','text']]\n",
    "split = split.dropna(subset='text')\n",
    "split['tag'].value_counts()[:20].plot(kind='barh', figsize=(10, 8))\n",
    "plt.title(\"Counts of tag first-mentioned\", y=1.02);"
   ]
  },
  {
   "cell_type": "markdown",
   "id": "449d4a4e",
   "metadata": {},
   "source": [
    "# Clean + preprocess"
   ]
  },
  {
   "cell_type": "code",
   "execution_count": null,
   "id": "a14c7d7f",
   "metadata": {},
   "outputs": [],
   "source": [
    "df"
   ]
  },
  {
   "cell_type": "code",
   "execution_count": null,
   "id": "0c1a2743",
   "metadata": {},
   "outputs": [],
   "source": [
    "#Remove all tags\n",
    "def remove_ats(text):\n",
    "    at_pattern = re.compile('@[a-zA-Z\\d]+')\n",
    "    return at_pattern.sub(r'', text)\n",
    "\n",
    "#Remove all employee tags\n",
    "def remove_tag(text):\n",
    "    at_pattern = re.compile('\\^[a-zA-Z\\d]+')\n",
    "    return at_pattern.sub(r'', text)\n",
    "\n",
    "#Remove URLS\n",
    "def remove_urls(text):\n",
    "    url_pattern = re.compile(r'https?://\\S+|www\\.\\S+')\n",
    "    return url_pattern.sub(r'', text)"
   ]
  },
  {
   "cell_type": "code",
   "execution_count": null,
   "id": "c8128242",
   "metadata": {},
   "outputs": [],
   "source": [
    "df['clean_text'] = split['text'].apply(remove_ats) \\\n",
    "                                .apply(remove_urls) \\\n",
    "                                .apply(remove_tag)"
   ]
  },
  {
   "cell_type": "code",
   "execution_count": null,
   "id": "4053bb97",
   "metadata": {},
   "outputs": [],
   "source": [
    "df.head(n=25)"
   ]
  },
  {
   "cell_type": "code",
   "execution_count": null,
   "id": "cbe79f6e",
   "metadata": {},
   "outputs": [],
   "source": []
  }
 ],
 "metadata": {
  "kernelspec": {
   "display_name": "Python 3 (ipykernel)",
   "language": "python",
   "name": "python3"
  },
  "language_info": {
   "codemirror_mode": {
    "name": "ipython",
    "version": 3
   },
   "file_extension": ".py",
   "mimetype": "text/x-python",
   "name": "python",
   "nbconvert_exporter": "python",
   "pygments_lexer": "ipython3",
   "version": "3.9.12"
  }
 },
 "nbformat": 4,
 "nbformat_minor": 5
}
